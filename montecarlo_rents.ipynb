{
 "cells": [
  {
   "cell_type": "markdown",
   "id": "494658f9",
   "metadata": {},
   "source": [
    "# Introduction\n",
    "This notebook summarizes an evaluation of a potential rental property using monte carlo simulation as well as some basic modelling techniques.\n",
    "The purpose of this project is to have some fun exploring a fictional investment property.\n",
    "\n",
    "I was recently reviewing a brochure for an investment opportunity in Alabama.  The rent was set at fixed number. We will make assumptions about the purchase price and interest rates to evaluate the opportunity.\n"
   ]
  },
  {
   "cell_type": "code",
   "execution_count": 58,
   "id": "ac6e6445",
   "metadata": {},
   "outputs": [],
   "source": [
    "library(dplyr)\n",
    "library(ggplot2)\n",
    "library(quantmod)\n",
    "library(dplyr)\n",
    "library(ggplot2)\n",
    "library(xts)\n",
    "library(tidyquant)\n",
    "library(tidyr)\n",
    "options(scipen = 999)\n"
   ]
  },
  {
   "cell_type": "markdown",
   "id": "a7f6bb68",
   "metadata": {},
   "source": [
    "# Specify Variables\n",
    "The flyer mentioned a rent of 1450. I'll assume home price base on the 1% rule."
   ]
  },
  {
   "cell_type": "code",
   "execution_count": 56,
   "id": "a7ff86c0",
   "metadata": {},
   "outputs": [
    {
     "name": "stdout",
     "output_type": "stream",
     "text": [
      "[1] \"buy property: $145000\"\n",
      "[1] \"Downpayment: $36250\"\n",
      "[1] \"Monthly Payment: $-1056.4771883654\"\n",
      "[1] \"Rental Yield: %10.8\"\n"
     ]
    }
   ],
   "source": [
    "# Specify variable\n",
    "rent<-1450\n",
    "purchase_price<- rent/.01\n",
    "monthly_rate = 6.04 / 100 / 12\n",
    "down_payment  <- .25*purchase_price\n",
    "loan_amount =  purchase_price-down_payment\n",
    "\n",
    "#  a / {[(1+r)^n]-1]} / [r(1+r)^n] = p\n",
    "# Note: a = total loan amount, r = periodic interest rate, n = total number of payment periods, p = monthly payment).\n",
    "\n",
    "rate = (1 + monthly_rate) ^ 360 - 1\n",
    "m_payment = loan_amount * monthly_rate * (rate + 1) / rate\n",
    "m_mort_taxes <-(.02/12)*purchase_price\n",
    "m_mort_ins <- 160\n",
    "mortgage_payment=(m_payment+m_mort_taxes+m_mort_ins)*-1\n",
    "\n",
    "# Annual rental yield allowing for management fee\n",
    "gross_rental_yield=  (12 * (rent*.9))/purchase_price\n",
    "\n",
    "# Key outputs\n",
    "print(paste('buy property: ' ,'$', purchase_price, sep='' ))\n",
    "print(paste('Downpayment: '  ,'$', down_payment, sep=''  ))\n",
    "print(paste('Monthly Payment: '  ,'$', mortgage_payment, sep=''  ))\n",
    "print(paste('Rental Yield: '  , '%',gross_rental_yield*100, sep=''  ))\n"
   ]
  },
  {
   "cell_type": "markdown",
   "id": "1b841e4d",
   "metadata": {},
   "source": [
    "# Pull Treasury Data"
   ]
  },
  {
   "cell_type": "code",
   "execution_count": 158,
   "id": "1f43e458",
   "metadata": {},
   "outputs": [
    {
     "data": {
      "text/html": [
       "<table>\n",
       "<thead><tr><th scope=col>date</th><th scope=col>DGS10</th></tr></thead>\n",
       "<tbody>\n",
       "\t<tr><td>2002-01-31</td><td>5.070     </td></tr>\n",
       "\t<tr><td>2002-02-28</td><td>4.880     </td></tr>\n",
       "\t<tr><td>2002-03-29</td><td>4.995     </td></tr>\n",
       "\t<tr><td>2002-04-30</td><td>5.110     </td></tr>\n",
       "\t<tr><td>2002-05-31</td><td>5.080     </td></tr>\n",
       "\t<tr><td>2002-06-28</td><td>4.860     </td></tr>\n",
       "</tbody>\n",
       "</table>\n"
      ],
      "text/latex": [
       "\\begin{tabular}{r|ll}\n",
       " date & DGS10\\\\\n",
       "\\hline\n",
       "\t 2002-01-31 & 5.070     \\\\\n",
       "\t 2002-02-28 & 4.880     \\\\\n",
       "\t 2002-03-29 & 4.995     \\\\\n",
       "\t 2002-04-30 & 5.110     \\\\\n",
       "\t 2002-05-31 & 5.080     \\\\\n",
       "\t 2002-06-28 & 4.860     \\\\\n",
       "\\end{tabular}\n"
      ],
      "text/markdown": [
       "\n",
       "| date | DGS10 |\n",
       "|---|---|\n",
       "| 2002-01-31 | 5.070      |\n",
       "| 2002-02-28 | 4.880      |\n",
       "| 2002-03-29 | 4.995      |\n",
       "| 2002-04-30 | 5.110      |\n",
       "| 2002-05-31 | 5.080      |\n",
       "| 2002-06-28 | 4.860      |\n",
       "\n"
      ],
      "text/plain": [
       "  date       DGS10\n",
       "1 2002-01-31 5.070\n",
       "2 2002-02-28 4.880\n",
       "3 2002-03-29 4.995\n",
       "4 2002-04-30 5.110\n",
       "5 2002-05-31 5.080\n",
       "6 2002-06-28 4.860"
      ]
     },
     "metadata": {},
     "output_type": "display_data"
    }
   ],
   "source": [
    "library(dplyr)\n",
    "library(zoo)\n",
    "\n",
    "yield_10y <- getSymbols(Symbols = \"DGS10\", src = \"FRED\", auto.assign = FALSE)\n",
    "yield_10y_monthly <- yield_10y[endpoints(yield_10y, on = \"months\", k = 1)]\n",
    "yield_10y_monthly <- yield_10y_monthly[\"2002-01-01/2023-01-01\"]\n",
    "\n",
    "#interpolate missing values in yield column\n",
    "yield_10y_monthly= data.frame(date=index(yield_10y_monthly), coredata(yield_10y_monthly)) %>% \n",
    "        mutate(DGS10 = na.approx(DGS10))\n",
    "\n",
    "\n",
    "head(yield_10y_monthly)\n",
    "\n"
   ]
  },
  {
   "cell_type": "code",
   "execution_count": 159,
   "id": "268a749e",
   "metadata": {},
   "outputs": [
    {
     "data": {
      "image/png": "[encoded data removed]",
      "text/plain": [
       "Plot with title \"10-Year US Treasury Yields\""
      ]
     },
     "metadata": {},
     "output_type": "display_data"
    }
   ],
   "source": [
    "# Plot yields\n",
    " plot(x = index(yield_10y_monthly),\n",
    "     y = yield_10y_monthly$DGS10,\n",
    "     xlab = \"Date\",\n",
    "     ylab = \"Yield (%)\",\n",
    "     type = \"l\",\n",
    "     col = \"blue\",\n",
    "     main = \"10-Year US Treasury Yields\")"
   ]
  },
  {
   "cell_type": "code",
   "execution_count": 165,
   "id": "30e94fc1",
   "metadata": {},
   "outputs": [
    {
     "name": "stdout",
     "output_type": "stream",
     "text": [
      "[1] \"The gross rental yield is  2.78 times the risk free rate ( 3.88 )\"\n"
     ]
    }
   ],
   "source": [
    "#10 yr yields vs rental opportunity\n",
    "\n",
    "ten_year= tail(yield_10y_monthly,n=1)\n",
    "risk_free_rate = ten_year[,2]\n",
    "\n",
    "# compare gross rental yield to risk free rate\n",
    "ratio= round(((gross_rental_yield*100)/risk_free_rate),2)\n",
    "print(paste('The gross rental yield is ', ratio, 'times the risk free rate', '(',risk_free_rate,')'))\n"
   ]
  },
  {
   "cell_type": "code",
   "execution_count": null,
   "id": "ce19eb01",
   "metadata": {},
   "outputs": [],
   "source": []
  },
  {
   "cell_type": "code",
   "execution_count": null,
   "id": "b4378ddb",
   "metadata": {},
   "outputs": [],
   "source": []
  }
 ],
 "metadata": {
  "kernelspec": {
   "display_name": "R",
   "language": "R",
   "name": "ir"
  },
  "language_info": {
   "codemirror_mode": "r",
   "file_extension": ".r",
   "mimetype": "text/x-r-source",
   "name": "R",
   "pygments_lexer": "r",
   "version": "3.6.1"
  }
 },
 "nbformat": 4,
 "nbformat_minor": 5
}
